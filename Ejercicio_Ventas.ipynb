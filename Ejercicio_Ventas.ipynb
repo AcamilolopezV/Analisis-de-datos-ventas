{
 "cells": [
  {
   "cell_type": "code",
   "execution_count": 2,
   "id": "c24e4238-8a49-49bd-827a-823545a05d92",
   "metadata": {},
   "outputs": [
    {
     "name": "stdout",
     "output_type": "stream",
     "text": [
      "************************ DATOS DE LA TRANSACCIÃ“N ***************************\n",
      "Empresa: EjemploCorp\n",
      "Fecha del Reporte: 2024-02-03\n",
      "NÃºmero de Sucursal: 12345\n",
      "\n",
      "ID_Transaccion, Fecha, Producto, Cantidad, Precio, Categoria, ID_Cliente, Notas\n",
      "1, 2024-01-20, ProductoA, 5, 10.50, ElectrÃ³nica, 101, -\n",
      "2, 2024-01-21, ProductoB, 2, 15.75, Ropa, 102, -\n",
      "3, 2024-01-22, ProductoC, 8, 7.20, Hogar, 103, -\n",
      "4, 2024-01-23, ProductoA, 3, 10.50, ElectrÃ³nica, 104, -\n",
      "5, 2024-01-23, ProductoB, 1, 15.75, Ropa, 105, -\n",
      "6, 2024-01-24, ProductoC, 4, 7.20, Hogar, 106, -\n",
      "7, 2024-01-25, ProductoA, 6, 10.50, ElectrÃ³nica, 107, -\n",
      "8, 2024-01-25, ProductoB, 3, 15.75, Ropa, 108, -\n",
      "9, 2024-01-26, ProductoC, 2, 7.20, Hogar, 109, -\n",
      "10, 2024-01-27, ProductoA, 4, 10.50, ElectrÃ³nica, 110, -\n",
      "11, 2024-01-27, ProductoB, 5, 15.75, Ropa, 111, -\n",
      "12, 2024-01-28, ProductoC, 7, 7.20, Hogar, 112, -\n",
      "13, 2024-01-29, ProductoA, 2, 10.50, ElectrÃ³nica, 113, -\n",
      "14, 2024-01-29, ProductoB, 1, 15.75, Ropa, 114, -\n",
      "15, 2024-01-30, ProductoC, 3, 7.20, Hogar, 115, -\n",
      "16, 2024-01-31, ProductoA, 8, 10.50, ElectrÃ³nica, 116, -\n",
      "17, 2024-01-31, ProductoB, 4, 15.75, Ropa, 117, -\n",
      "18, 2024-02-01, ProductoC, 5, 7.20, Hogar, 118, -\n",
      "19, 2024-02-02, ProductoA, 3, 10.50, ElectrÃ³nica, 119, -\n",
      "20, 2024-02-02, ProductoB, 2, 15.75, Ropa, 120, -\n",
      "\n"
     ]
    }
   ],
   "source": [
    "#Definir archivo a importar\n",
    "\n",
    "filename = \"Transacción de muestra.txt\"\n",
    "data = open(filename, \"r\")\n",
    "read_data = data.read()\n",
    "print(read_data)"
   ]
  },
  {
   "cell_type": "code",
   "execution_count": null,
   "id": "d5b1483c-056c-4150-a7d3-6b8b74312ce9",
   "metadata": {},
   "outputs": [],
   "source": []
  }
 ],
 "metadata": {
  "kernelspec": {
   "display_name": "Python 3 (ipykernel)",
   "language": "python",
   "name": "python3"
  },
  "language_info": {
   "codemirror_mode": {
    "name": "ipython",
    "version": 3
   },
   "file_extension": ".py",
   "mimetype": "text/x-python",
   "name": "python",
   "nbconvert_exporter": "python",
   "pygments_lexer": "ipython3",
   "version": "3.13.0"
  }
 },
 "nbformat": 4,
 "nbformat_minor": 5
}
